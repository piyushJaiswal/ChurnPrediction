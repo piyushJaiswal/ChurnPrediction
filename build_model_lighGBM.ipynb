{
 "cells": [
  {
   "cell_type": "code",
   "execution_count": 1,
   "metadata": {
    "collapsed": true
   },
   "outputs": [],
   "source": [
    "# load libraries\n",
    "import numpy as np\n",
    "import pandas as pd\n",
    "from datetime import datetime as dt\n",
    "\n",
    "from sklearn.model_selection import train_test_split\n",
    "from sklearn.preprocessing import LabelEncoder\n",
    "import lightgbm as lgb\n",
    "from tqdm import tqdm"
   ]
  },
  {
   "cell_type": "code",
   "execution_count": 6,
   "metadata": {},
   "outputs": [
    {
     "name": "stderr",
     "output_type": "stream",
     "text": [
      "C:\\Users\\system5\\Anaconda3\\lib\\site-packages\\IPython\\core\\interactiveshell.py:2698: DtypeWarning: Columns (248,253,254,256,266,268,318,320,322) have mixed types. Specify dtype option on import or set low_memory=False.\n",
      "  interactivity=interactivity, compiler=compiler, result=result)\n",
      "C:\\Users\\system5\\Anaconda3\\lib\\site-packages\\IPython\\core\\interactiveshell.py:2698: DtypeWarning: Columns (294,299,300,302,313,315,365,367,369) have mixed types. Specify dtype option on import or set low_memory=False.\n",
      "  interactivity=interactivity, compiler=compiler, result=result)\n"
     ]
    }
   ],
   "source": [
    "# load data\n",
    "df_train = pd.read_csv(\"../DERIVED/train.csv\")\n",
    "df_test = pd.read_csv(\"../DERIVED/test.csv\")"
   ]
  },
  {
   "cell_type": "code",
   "execution_count": 7,
   "metadata": {},
   "outputs": [
    {
     "name": "stdout",
     "output_type": "stream",
     "text": [
      "(300000, 330)\n",
      "(200000, 376)\n"
     ]
    }
   ],
   "source": [
    "print(df_train.shape)\n",
    "print(df_test.shape)"
   ]
  },
  {
   "cell_type": "code",
   "execution_count": 8,
   "metadata": {},
   "outputs": [
    {
     "name": "stderr",
     "output_type": "stream",
     "text": [
      "100%|████████████████████████████████████████████████████████████████████████████████| 328/328 [00:23<00:00, 14.05it/s]\n"
     ]
    }
   ],
   "source": [
    "# transfrom columns\n",
    "ids = df_test['UCIC_ID'].values\n",
    "df_train.drop(['UCIC_ID'], axis=1, inplace=True)\n",
    "df_test.drop(['UCIC_ID'], axis=1, inplace=True)\n",
    "\n",
    "\n",
    "\n",
    "cols = list(df_train.columns)\n",
    "cols.remove('responders')\n",
    "df_test = df_test[cols]\n",
    "\n",
    "\n",
    "\n",
    "df_train = df_train.fillna(-1)\n",
    "df_test = df_test.fillna(-1)\n",
    "\n",
    "\n",
    "\n",
    "import gc\n",
    "gc.collect()\n",
    "\n",
    "\n",
    "\n",
    "for col in tqdm(cols):\n",
    "    if df_train[col].dtype == 'object':\n",
    "        df_train[col] = df_train[col].apply(str)\n",
    "        df_test[col] = df_test[col].apply(str)\n",
    "\n",
    "        le = LabelEncoder()\n",
    "        train_vals = list(df_train[col].unique())\n",
    "        test_vals = list(df_test[col].unique())\n",
    "        le.fit(train_vals + test_vals)\n",
    "        df_train[col] = le.transform(df_train[col])\n",
    "        df_test[col] = le.transform(df_test[col])\n",
    "\n",
    "        \n",
    "        \n",
    "X = np.array(df_train.drop(['responders'], axis=1))\n",
    "le = LabelEncoder()\n",
    "y_vals = list(df_train['responders'].unique())\n",
    "le.fit(y_vals)\n",
    "y = le.transform(df_train['responders'])\n",
    "X_test = np.array(df_test)\n",
    "del df_train, df_test; gc.collect();\n",
    "\n",
    "\n",
    "\n",
    "X_train, X_valid, y_train, y_valid = train_test_split(X, y, test_size=0.3, random_state = 123)\n",
    "del X, y; gc.collect();\n",
    "\n",
    "\n",
    "\n",
    "d_train = lgb.Dataset(X_train, label=y_train)\n",
    "d_valid = lgb.Dataset(X_valid, label=y_valid) \n",
    "watchlist = [d_valid]"
   ]
  },
  {
   "cell_type": "code",
   "execution_count": 9,
   "metadata": {
    "collapsed": true
   },
   "outputs": [],
   "source": [
    "# light gbm parameters\n",
    "params = {\n",
    "        'objective': 'binary',\n",
    "        'metric': 'binary_logloss',\n",
    "        'boosting': 'gbdt',\n",
    "        'learning_rate': 0.01 ,\n",
    "        'verbose': 0,\n",
    "        'num_leaves': 108,\n",
    "        'bagging_fraction': 0.75,\n",
    "        'bagging_freq': 1,\n",
    "        'bagging_seed': 1,\n",
    "        'feature_fraction': 0.95,\n",
    "        'feature_fraction_seed': 1,\n",
    "        'max_bin': 128,\n",
    "        'max_depth': 10,\n",
    "        'metric' : 'auc',\n",
    "        'min_data_in_leaf': 10\n",
    "        }"
   ]
  },
  {
   "cell_type": "code",
   "execution_count": 11,
   "metadata": {},
   "outputs": [
    {
     "name": "stdout",
     "output_type": "stream",
     "text": [
      "Training until validation scores don't improve for 50 rounds.\n",
      "[50]\tvalid_0's auc: 0.850476\n",
      "[100]\tvalid_0's auc: 0.852897\n",
      "[150]\tvalid_0's auc: 0.854888\n",
      "[200]\tvalid_0's auc: 0.857312\n",
      "[250]\tvalid_0's auc: 0.85997\n",
      "[300]\tvalid_0's auc: 0.862518\n",
      "[350]\tvalid_0's auc: 0.864671\n",
      "[400]\tvalid_0's auc: 0.866207\n",
      "[450]\tvalid_0's auc: 0.867402\n",
      "[500]\tvalid_0's auc: 0.868242\n",
      "[550]\tvalid_0's auc: 0.868849\n",
      "[600]\tvalid_0's auc: 0.869375\n",
      "[650]\tvalid_0's auc: 0.869736\n",
      "[700]\tvalid_0's auc: 0.87005\n",
      "[750]\tvalid_0's auc: 0.870316\n",
      "[800]\tvalid_0's auc: 0.870544\n",
      "[850]\tvalid_0's auc: 0.870783\n",
      "[900]\tvalid_0's auc: 0.870923\n",
      "[950]\tvalid_0's auc: 0.871015\n",
      "[1000]\tvalid_0's auc: 0.871203\n"
     ]
    }
   ],
   "source": [
    "# light gbm model\n",
    "np.random.seed(1234)\n",
    "bst = lgb.train(params, d_train, num_boost_round = 1001, valid_sets = watchlist, early_stopping_rounds=50, verbose_eval=50)"
   ]
  },
  {
   "cell_type": "code",
   "execution_count": 12,
   "metadata": {},
   "outputs": [
    {
     "name": "stdout",
     "output_type": "stream",
     "text": [
      "Done!\n"
     ]
    }
   ],
   "source": [
    "# make predicions\n",
    "p_test = bst.predict(X_test)\n",
    "\n",
    "subm = pd.DataFrame()\n",
    "subm['UCIC_ID'] = ids\n",
    "subm['Responders'] = p_test\n",
    "subm = subm.sort_values(['UCIC_ID'])\n",
    "subm.to_csv('../SUBMISSION/submission_lightgbm_1.csv', index = False)\n",
    "print('Done!')"
   ]
  },
  {
   "cell_type": "code",
   "execution_count": null,
   "metadata": {},
   "outputs": [],
   "source": []
  },
  {
   "cell_type": "code",
   "execution_count": 10,
   "metadata": {
    "collapsed": true
   },
   "outputs": [],
   "source": []
  },
  {
   "cell_type": "code",
   "execution_count": 11,
   "metadata": {
    "collapsed": true
   },
   "outputs": [],
   "source": []
  }
 ],
 "metadata": {
  "kernelspec": {
   "display_name": "Python 3",
   "language": "python",
   "name": "python3"
  },
  "language_info": {
   "codemirror_mode": {
    "name": "ipython",
    "version": 3
   },
   "file_extension": ".py",
   "mimetype": "text/x-python",
   "name": "python",
   "nbconvert_exporter": "python",
   "pygments_lexer": "ipython3",
   "version": "3.5.4"
  }
 },
 "nbformat": 4,
 "nbformat_minor": 2
}
